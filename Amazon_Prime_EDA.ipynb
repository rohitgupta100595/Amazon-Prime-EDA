{
 "cells": [
  {
   "cell_type": "markdown",
   "metadata": {
    "id": "vncDsAP0Gaoa"
   },
   "source": [
    "# **Project Name**    -    Amazon Prime Video Exploratory Data Analysis (EDA)\n",
    "\n"
   ]
  },
  {
   "cell_type": "markdown",
   "metadata": {
    "id": "beRrZCGUAJYm"
   },
   "source": [
    "##### **Project Type**    - EDA\n",
    "##### **Contribution**    - Individual"
   ]
  },
  {
   "cell_type": "markdown",
   "metadata": {
    "id": "FJNUwmbgGyua"
   },
   "source": [
    "# **Project Summary -**"
   ]
  },
  {
   "cell_type": "markdown",
   "metadata": {
    "id": "F6v_1wHtG2nS"
   },
   "source": [
    "This project deals with the Exploratory Data Analysis (EDA) of Amazon Prime Video (A streaming plateform) dataset allowing us to extract valueable insights, such as Content diversity, Regional Availability, Trends Over Time and IMDb Ratings.\n",
    "\n",
    "This project uncovers key trends that influence, subscription growth, user engagement, and content investment strategies in streaming industry for bussiness, content creators and Data Analyst."
   ]
  },
  {
   "cell_type": "markdown",
   "metadata": {
    "id": "w6K7xa23Elo4"
   },
   "source": [
    "# **GitHub Link -**"
   ]
  },
  {
   "cell_type": "markdown",
   "metadata": {
    "id": "h1o69JH3Eqqn"
   },
   "source": [
    "Provide your GitHub Link here."
   ]
  },
  {
   "cell_type": "markdown",
   "metadata": {
    "id": "yQaldy8SH6Dl"
   },
   "source": [
    "# **Problem Statement**\n"
   ]
  },
  {
   "cell_type": "markdown",
   "metadata": {
    "id": "DpeJGUA3kjGy"
   },
   "source": [
    "**We are required to extract valuable insights from Amazon Prime Video Dataset, that is**\n",
    "\n",
    "**1. Content Diversity: What genres and categories dominate the plateform.?**\n",
    "\n",
    "**2. Regional Availability: How does content distribution vary across different regions?**\n",
    "\n",
    "**3. Trends Over Time: How has Amazon Prime's content library evolved?**\n",
    "\n",
    "**4. IMDb Ratings and Popularity: What are the highest rated or most popular shows on plateform?**"
   ]
  },
  {
   "cell_type": "markdown",
   "metadata": {
    "id": "PH-0ReGfmX4f"
   },
   "source": [
    "#### **Define Your Business Objective?**"
   ]
  },
  {
   "cell_type": "markdown",
   "metadata": {
    "id": "PhDvGCAqmjP1"
   },
   "source": [
    "The bussiness objective of this project is to find,\n",
    "- Key Trends\n",
    "- Subscription Growth\n",
    "- User Engagement\n",
    "- Content Investment Strategies"
   ]
  },
  {
   "cell_type": "markdown",
   "metadata": {
    "id": "mDgbUHAGgjLW"
   },
   "source": [
    "# **General Guidelines** : -  "
   ]
  },
  {
   "cell_type": "markdown",
   "metadata": {
    "id": "ZrxVaUj-hHfC"
   },
   "source": [
    "1.   Well-structured, formatted, and commented code is required.\n",
    "2.   Exception Handling, Production Grade Code & Deployment Ready Code will be a plus. Those students will be awarded some additional credits.\n",
    "     \n",
    "     The additional credits will have advantages over other students during Star Student selection.\n",
    "       \n",
    "             [ Note: - Deployment Ready Code is defined as, the whole .ipynb notebook should be executable in one go\n",
    "                       without a single error logged. ]\n",
    "\n",
    "3.   Each and every logic should have proper comments.\n",
    "4. You may add as many number of charts you want. Make Sure for each and every chart the following format should be answered.\n",
    "        \n",
    "\n",
    "```\n",
    "# Chart visualization code\n",
    "```\n",
    "            \n",
    "\n",
    "*   Why did you pick the specific chart?\n",
    "*   What is/are the insight(s) found from the chart?\n",
    "* Will the gained insights help creating a positive business impact?\n",
    "Are there any insights that lead to negative growth? Justify with specific reason.\n",
    "\n",
    "5. You have to create at least 20 logical & meaningful charts having important insights.\n",
    "\n",
    "\n",
    "[ Hints : - Do the Vizualization in  a structured way while following \"UBM\" Rule.\n",
    "\n",
    "U - Univariate Analysis,\n",
    "\n",
    "B - Bivariate Analysis (Numerical - Categorical, Numerical - Numerical, Categorical - Categorical)\n",
    "\n",
    "M - Multivariate Analysis\n",
    " ]\n",
    "\n",
    "\n",
    "\n"
   ]
  },
  {
   "cell_type": "markdown",
   "metadata": {
    "id": "O_i_v8NEhb9l"
   },
   "source": [
    "# ***Let's Begin !***"
   ]
  },
  {
   "cell_type": "markdown",
   "metadata": {
    "id": "HhfV-JJviCcP"
   },
   "source": [
    "## ***1. Know Your Data***"
   ]
  },
  {
   "cell_type": "markdown",
   "metadata": {
    "id": "Y3lxredqlCYt"
   },
   "source": [
    "### Import Libraries"
   ]
  },
  {
   "cell_type": "code",
   "execution_count": 51,
   "metadata": {
    "id": "M8Vqi-pPk-HR"
   },
   "outputs": [],
   "source": [
    "# Import Libraries\n",
    "import pandas as pd \n",
    "import matplotlib.pyplot as plt\n",
    "from matplotlib.ticker import FuncFormatter\n",
    "import seaborn as sns\n",
    "import numpy as np\n",
    "import ast"
   ]
  },
  {
   "cell_type": "markdown",
   "metadata": {
    "id": "3RnN4peoiCZX"
   },
   "source": [
    "### Dataset Loading"
   ]
  },
  {
   "cell_type": "code",
   "execution_count": 52,
   "metadata": {
    "id": "4CkvbW_SlZ_R"
   },
   "outputs": [],
   "source": [
    "# Load Dataset\n",
    "title = pd.read_csv(\"titles.csv\")"
   ]
  },
  {
   "cell_type": "markdown",
   "metadata": {
    "id": "x71ZqKXriCWQ"
   },
   "source": [
    "### Dataset First View"
   ]
  },
  {
   "cell_type": "code",
   "execution_count": 53,
   "metadata": {
    "id": "LWNFOSvLl09H"
   },
   "outputs": [
    {
     "data": {
      "text/html": [
       "<div>\n",
       "<style scoped>\n",
       "    .dataframe tbody tr th:only-of-type {\n",
       "        vertical-align: middle;\n",
       "    }\n",
       "\n",
       "    .dataframe tbody tr th {\n",
       "        vertical-align: top;\n",
       "    }\n",
       "\n",
       "    .dataframe thead th {\n",
       "        text-align: right;\n",
       "    }\n",
       "</style>\n",
       "<table border=\"1\" class=\"dataframe\">\n",
       "  <thead>\n",
       "    <tr style=\"text-align: right;\">\n",
       "      <th></th>\n",
       "      <th>id</th>\n",
       "      <th>title</th>\n",
       "      <th>type</th>\n",
       "      <th>description</th>\n",
       "      <th>release_year</th>\n",
       "      <th>age_certification</th>\n",
       "      <th>runtime</th>\n",
       "      <th>genres</th>\n",
       "      <th>production_countries</th>\n",
       "      <th>seasons</th>\n",
       "      <th>imdb_id</th>\n",
       "      <th>imdb_score</th>\n",
       "      <th>imdb_votes</th>\n",
       "      <th>tmdb_popularity</th>\n",
       "      <th>tmdb_score</th>\n",
       "    </tr>\n",
       "  </thead>\n",
       "  <tbody>\n",
       "    <tr>\n",
       "      <th>0</th>\n",
       "      <td>ts20945</td>\n",
       "      <td>The Three Stooges</td>\n",
       "      <td>SHOW</td>\n",
       "      <td>The Three Stooges were an American vaudeville ...</td>\n",
       "      <td>1934</td>\n",
       "      <td>TV-PG</td>\n",
       "      <td>19</td>\n",
       "      <td>['comedy', 'family', 'animation', 'action', 'f...</td>\n",
       "      <td>['US']</td>\n",
       "      <td>26.0</td>\n",
       "      <td>tt0850645</td>\n",
       "      <td>8.6</td>\n",
       "      <td>1092.0</td>\n",
       "      <td>15.424</td>\n",
       "      <td>7.6</td>\n",
       "    </tr>\n",
       "    <tr>\n",
       "      <th>1</th>\n",
       "      <td>tm19248</td>\n",
       "      <td>The General</td>\n",
       "      <td>MOVIE</td>\n",
       "      <td>During America’s Civil War, Union spies steal ...</td>\n",
       "      <td>1926</td>\n",
       "      <td>NaN</td>\n",
       "      <td>78</td>\n",
       "      <td>['action', 'drama', 'war', 'western', 'comedy'...</td>\n",
       "      <td>['US']</td>\n",
       "      <td>NaN</td>\n",
       "      <td>tt0017925</td>\n",
       "      <td>8.2</td>\n",
       "      <td>89766.0</td>\n",
       "      <td>8.647</td>\n",
       "      <td>8.0</td>\n",
       "    </tr>\n",
       "    <tr>\n",
       "      <th>2</th>\n",
       "      <td>tm82253</td>\n",
       "      <td>The Best Years of Our Lives</td>\n",
       "      <td>MOVIE</td>\n",
       "      <td>It's the hope that sustains the spirit of ever...</td>\n",
       "      <td>1946</td>\n",
       "      <td>NaN</td>\n",
       "      <td>171</td>\n",
       "      <td>['romance', 'war', 'drama']</td>\n",
       "      <td>['US']</td>\n",
       "      <td>NaN</td>\n",
       "      <td>tt0036868</td>\n",
       "      <td>8.1</td>\n",
       "      <td>63026.0</td>\n",
       "      <td>8.435</td>\n",
       "      <td>7.8</td>\n",
       "    </tr>\n",
       "    <tr>\n",
       "      <th>3</th>\n",
       "      <td>tm83884</td>\n",
       "      <td>His Girl Friday</td>\n",
       "      <td>MOVIE</td>\n",
       "      <td>Hildy, the journalist former wife of newspaper...</td>\n",
       "      <td>1940</td>\n",
       "      <td>NaN</td>\n",
       "      <td>92</td>\n",
       "      <td>['comedy', 'drama', 'romance']</td>\n",
       "      <td>['US']</td>\n",
       "      <td>NaN</td>\n",
       "      <td>tt0032599</td>\n",
       "      <td>7.8</td>\n",
       "      <td>57835.0</td>\n",
       "      <td>11.270</td>\n",
       "      <td>7.4</td>\n",
       "    </tr>\n",
       "    <tr>\n",
       "      <th>4</th>\n",
       "      <td>tm56584</td>\n",
       "      <td>In a Lonely Place</td>\n",
       "      <td>MOVIE</td>\n",
       "      <td>An aspiring actress begins to suspect that her...</td>\n",
       "      <td>1950</td>\n",
       "      <td>NaN</td>\n",
       "      <td>94</td>\n",
       "      <td>['thriller', 'drama', 'romance']</td>\n",
       "      <td>['US']</td>\n",
       "      <td>NaN</td>\n",
       "      <td>tt0042593</td>\n",
       "      <td>7.9</td>\n",
       "      <td>30924.0</td>\n",
       "      <td>8.273</td>\n",
       "      <td>7.6</td>\n",
       "    </tr>\n",
       "  </tbody>\n",
       "</table>\n",
       "</div>"
      ],
      "text/plain": [
       "        id                        title   type  \\\n",
       "0  ts20945            The Three Stooges   SHOW   \n",
       "1  tm19248                  The General  MOVIE   \n",
       "2  tm82253  The Best Years of Our Lives  MOVIE   \n",
       "3  tm83884              His Girl Friday  MOVIE   \n",
       "4  tm56584            In a Lonely Place  MOVIE   \n",
       "\n",
       "                                         description  release_year  \\\n",
       "0  The Three Stooges were an American vaudeville ...          1934   \n",
       "1  During America’s Civil War, Union spies steal ...          1926   \n",
       "2  It's the hope that sustains the spirit of ever...          1946   \n",
       "3  Hildy, the journalist former wife of newspaper...          1940   \n",
       "4  An aspiring actress begins to suspect that her...          1950   \n",
       "\n",
       "  age_certification  runtime  \\\n",
       "0             TV-PG       19   \n",
       "1               NaN       78   \n",
       "2               NaN      171   \n",
       "3               NaN       92   \n",
       "4               NaN       94   \n",
       "\n",
       "                                              genres production_countries  \\\n",
       "0  ['comedy', 'family', 'animation', 'action', 'f...               ['US']   \n",
       "1  ['action', 'drama', 'war', 'western', 'comedy'...               ['US']   \n",
       "2                        ['romance', 'war', 'drama']               ['US']   \n",
       "3                     ['comedy', 'drama', 'romance']               ['US']   \n",
       "4                   ['thriller', 'drama', 'romance']               ['US']   \n",
       "\n",
       "   seasons    imdb_id  imdb_score  imdb_votes  tmdb_popularity  tmdb_score  \n",
       "0     26.0  tt0850645         8.6      1092.0           15.424         7.6  \n",
       "1      NaN  tt0017925         8.2     89766.0            8.647         8.0  \n",
       "2      NaN  tt0036868         8.1     63026.0            8.435         7.8  \n",
       "3      NaN  tt0032599         7.8     57835.0           11.270         7.4  \n",
       "4      NaN  tt0042593         7.9     30924.0            8.273         7.6  "
      ]
     },
     "execution_count": 53,
     "metadata": {},
     "output_type": "execute_result"
    }
   ],
   "source": [
    "# Dataset First Look\n",
    "title.head()"
   ]
  },
  {
   "cell_type": "markdown",
   "metadata": {
    "id": "7hBIi_osiCS2"
   },
   "source": [
    "### Dataset Rows & Columns count"
   ]
  },
  {
   "cell_type": "code",
   "execution_count": 54,
   "metadata": {
    "id": "Kllu7SJgmLij"
   },
   "outputs": [
    {
     "name": "stdout",
     "output_type": "stream",
     "text": [
      "Rows and Columns count for titles (9871, 15)\n"
     ]
    }
   ],
   "source": [
    "# Dataset Rows & Columns count\n",
    "print(f\"Rows and Columns count for titles {title.shape}\")"
   ]
  },
  {
   "cell_type": "markdown",
   "metadata": {
    "id": "JlHwYmJAmNHm"
   },
   "source": [
    "### Dataset Information"
   ]
  },
  {
   "cell_type": "code",
   "execution_count": 55,
   "metadata": {
    "id": "e9hRXRi6meOf"
   },
   "outputs": [
    {
     "name": "stdout",
     "output_type": "stream",
     "text": [
      "<class 'pandas.core.frame.DataFrame'>\n",
      "RangeIndex: 9871 entries, 0 to 9870\n",
      "Data columns (total 15 columns):\n",
      " #   Column                Non-Null Count  Dtype  \n",
      "---  ------                --------------  -----  \n",
      " 0   id                    9871 non-null   object \n",
      " 1   title                 9871 non-null   object \n",
      " 2   type                  9871 non-null   object \n",
      " 3   description           9752 non-null   object \n",
      " 4   release_year          9871 non-null   int64  \n",
      " 5   age_certification     3384 non-null   object \n",
      " 6   runtime               9871 non-null   int64  \n",
      " 7   genres                9871 non-null   object \n",
      " 8   production_countries  9871 non-null   object \n",
      " 9   seasons               1357 non-null   float64\n",
      " 10  imdb_id               9204 non-null   object \n",
      " 11  imdb_score            8850 non-null   float64\n",
      " 12  imdb_votes            8840 non-null   float64\n",
      " 13  tmdb_popularity       9324 non-null   float64\n",
      " 14  tmdb_score            7789 non-null   float64\n",
      "dtypes: float64(5), int64(2), object(8)\n",
      "memory usage: 1.1+ MB\n",
      "None\n"
     ]
    }
   ],
   "source": [
    "# Dataset Info\n",
    "print(title.info())"
   ]
  },
  {
   "cell_type": "markdown",
   "metadata": {
    "id": "35m5QtbWiB9F"
   },
   "source": [
    "#### Duplicate Values"
   ]
  },
  {
   "cell_type": "code",
   "execution_count": 56,
   "metadata": {
    "id": "1sLdpKYkmox0"
   },
   "outputs": [
    {
     "name": "stdout",
     "output_type": "stream",
     "text": [
      "Duplicated value count for title \n",
      "3\n"
     ]
    }
   ],
   "source": [
    "# Dataset Duplicate Value Count\n",
    "print(f\"Duplicated value count for title \\n{title.duplicated().sum()}\")"
   ]
  },
  {
   "cell_type": "markdown",
   "metadata": {
    "id": "PoPl-ycgm1ru"
   },
   "source": [
    "#### Missing Values/Null Values"
   ]
  },
  {
   "cell_type": "code",
   "execution_count": 57,
   "metadata": {
    "id": "GgHWkxvamxVg"
   },
   "outputs": [
    {
     "data": {
      "text/plain": [
       "id                         0\n",
       "title                      0\n",
       "type                       0\n",
       "description              119\n",
       "release_year               0\n",
       "age_certification       6487\n",
       "runtime                    0\n",
       "genres                     0\n",
       "production_countries       0\n",
       "seasons                 8514\n",
       "imdb_id                  667\n",
       "imdb_score              1021\n",
       "imdb_votes              1031\n",
       "tmdb_popularity          547\n",
       "tmdb_score              2082\n",
       "dtype: int64"
      ]
     },
     "execution_count": 57,
     "metadata": {},
     "output_type": "execute_result"
    }
   ],
   "source": [
    "# Missing Values/Null Values Count\n",
    "title.isna().sum()"
   ]
  },
  {
   "cell_type": "code",
   "execution_count": 58,
   "metadata": {},
   "outputs": [],
   "source": [
    "# Missing value percentage calculation\n",
    "def missing_percent(df):\n",
    "    missing_values = df.isnull().sum()\n",
    "    df_length = len(df)\n",
    "    missing_percent = (missing_values/df_length)*100\n",
    "    return missing_percent.sort_values(ascending = False)"
   ]
  },
  {
   "cell_type": "code",
   "execution_count": 59,
   "metadata": {},
   "outputs": [
    {
     "data": {
      "text/plain": [
       "seasons                 86.252659\n",
       "age_certification       65.717759\n",
       "tmdb_score              21.092088\n",
       "imdb_votes              10.444737\n",
       "imdb_score              10.343430\n",
       "imdb_id                  6.757167\n",
       "tmdb_popularity          5.541485\n",
       "description              1.205552\n",
       "runtime                  0.000000\n",
       "title                    0.000000\n",
       "type                     0.000000\n",
       "id                       0.000000\n",
       "release_year             0.000000\n",
       "genres                   0.000000\n",
       "production_countries     0.000000\n",
       "dtype: float64"
      ]
     },
     "execution_count": 59,
     "metadata": {},
     "output_type": "execute_result"
    }
   ],
   "source": [
    "missing_percent(title)"
   ]
  },
  {
   "cell_type": "code",
   "execution_count": 60,
   "metadata": {
    "id": "3q5wnI3om9sJ"
   },
   "outputs": [
    {
     "data": {
      "text/plain": [
       "<Axes: >"
      ]
     },
     "execution_count": 60,
     "metadata": {},
     "output_type": "execute_result"
    },
    {
     "data": {
      "image/png": "[encoded data removed]",
      "text/plain": [
       "<Figure size 1000x800 with 2 Axes>"
      ]
     },
     "metadata": {},
     "output_type": "display_data"
    }
   ],
   "source": [
    "# Visualizing the missing values\n",
    "plt.figure(figsize=(10,8))\n",
    "colors = ['grey','white']\n",
    "sns.heatmap(title.isna(),cmap = sns.color_palette(colors))"
   ]
  },
  {
   "cell_type": "markdown",
   "metadata": {
    "id": "H0kj-8xxnORC"
   },
   "source": [
    "### What did you know about your dataset?"
   ]
  },
  {
   "cell_type": "markdown",
   "metadata": {
    "id": "gfoNAAC-nUe_"
   },
   "source": [
    "- The title dataset has 9871 rows with 15 columns containing information about Amazon Prime Plateform.\n",
    "- There are 3 duplicated rows. with\n",
    "  (86% missing value in season column)\n",
    "  (65% missing value in age_certification column)\n",
    "  (21% missing value in tmdb_score column)\n",
    "  (10% missing value in imdb_votes column)\n",
    "  (10% missing value in imdb_scores column)\n",
    "  (6% missing value in imdb_id column)\n",
    "  (5% missing value in tmdb_popularity column)\n",
    "  (1% missing value in description column)"
   ]
  },
  {
   "cell_type": "markdown",
   "metadata": {
    "id": "nA9Y7ga8ng1Z"
   },
   "source": [
    "## ***2. Understanding Your Variables***"
   ]
  },
  {
   "cell_type": "code",
   "execution_count": 61,
   "metadata": {
    "id": "j7xfkqrt5Ag5"
   },
   "outputs": [
    {
     "name": "stdout",
     "output_type": "stream",
     "text": [
      "Columns for title \n",
      "Index(['id', 'title', 'type', 'description', 'release_year',\n",
      "       'age_certification', 'runtime', 'genres', 'production_countries',\n",
      "       'seasons', 'imdb_id', 'imdb_score', 'imdb_votes', 'tmdb_popularity',\n",
      "       'tmdb_score'],\n",
      "      dtype='object')\n"
     ]
    }
   ],
   "source": [
    "# Dataset Columns\n",
    "print(f\"Columns for title \\n{title.columns}\")"
   ]
  },
  {
   "cell_type": "code",
   "execution_count": 62,
   "metadata": {
    "id": "DnOaZdaE5Q5t"
   },
   "outputs": [
    {
     "name": "stdout",
     "output_type": "stream",
     "text": [
      "Data description for title \n",
      "       release_year      runtime      seasons   imdb_score    imdb_votes  \\\n",
      "count   9871.000000  9871.000000  1357.000000  8850.000000  8.840000e+03   \n",
      "mean    2001.327221    85.973052     2.791452     5.976395  8.533614e+03   \n",
      "std       25.810071    33.512466     4.148958     1.343842  4.592015e+04   \n",
      "min     1912.000000     1.000000     1.000000     1.100000  5.000000e+00   \n",
      "25%     1995.500000    65.000000     1.000000     5.100000  1.170000e+02   \n",
      "50%     2014.000000    89.000000     1.000000     6.100000  4.625000e+02   \n",
      "75%     2018.000000   102.000000     3.000000     6.900000  2.236250e+03   \n",
      "max     2022.000000   549.000000    51.000000     9.900000  1.133692e+06   \n",
      "\n",
      "       tmdb_popularity   tmdb_score  \n",
      "count      9324.000000  7789.000000  \n",
      "mean          6.910204     5.984247  \n",
      "std          30.004098     1.517986  \n",
      "min           0.000011     0.800000  \n",
      "25%           1.232000     5.100000  \n",
      "50%           2.536000     6.000000  \n",
      "75%           5.634000     6.900000  \n",
      "max        1437.906000    10.000000  \n"
     ]
    }
   ],
   "source": [
    "# Dataset Describe\n",
    "print(f\"Data description for title \\n{title.describe()}\")"
   ]
  },
  {
   "cell_type": "markdown",
   "metadata": {
    "id": "PBTbrJXOngz2"
   },
   "source": [
    "### Variables Description"
   ]
  },
  {
   "cell_type": "markdown",
   "metadata": {
    "id": "aJV4KIxSnxay"
   },
   "source": [
    "- 'id' contains the content id that is unique for each content.\n",
    "- 'title' contains the movie/show name\n",
    "- 'type' contains the type of content, weather it's a movie or show\n",
    "- 'description' contains short description of the movie.\n",
    "- 'release_year' contains the year in which the movie/show was released.\n",
    "- 'runtime' contains length of movies/show in minutes.\n",
    "- 'genres' contains genre type for each movie/show, may contain multiple genre for single content.\n",
    "- 'production_countries' contains list of countries where content was re;eased.\n",
    "- 'imdb_score' contains imdb_score for each content (1 to 10)\n",
    "- 'imdb_votes' contains popularity based on imdb (higher votes more popularity)"
   ]
  },
  {
   "cell_type": "markdown",
   "metadata": {
    "id": "u3PMJOP6ngxN"
   },
   "source": [
    "### Check Unique Values for each variable."
   ]
  },
  {
   "cell_type": "code",
   "execution_count": 63,
   "metadata": {
    "id": "zms12Yq5n-jE"
   },
   "outputs": [
    {
     "name": "stdout",
     "output_type": "stream",
     "text": [
      "Unique values for title \n",
      "id                      9868\n",
      "title                   9737\n",
      "type                       2\n",
      "description             9734\n",
      "release_year             110\n",
      "age_certification         11\n",
      "runtime                  207\n",
      "genres                  2028\n",
      "production_countries     497\n",
      "seasons                   32\n",
      "imdb_id                 9201\n",
      "imdb_score                86\n",
      "imdb_votes              3650\n",
      "tmdb_popularity         5325\n",
      "tmdb_score                89\n",
      "dtype: int64\n"
     ]
    }
   ],
   "source": [
    "# Check Unique Values for each variable.\\\n",
    "print(f\"Unique values for title \\n{title.nunique()}\")"
   ]
  },
  {
   "cell_type": "markdown",
   "metadata": {
    "id": "dauF4eBmngu3"
   },
   "source": [
    "## 3. ***Data Wrangling***"
   ]
  },
  {
   "cell_type": "markdown",
   "metadata": {
    "id": "bKJF3rekwFvQ"
   },
   "source": [
    "### Data Wrangling Code"
   ]
  },
  {
   "cell_type": "code",
   "execution_count": 64,
   "metadata": {
    "id": "wk-9a2fpoLcV"
   },
   "outputs": [],
   "source": [
    "# Write your code to make your dataset analysis ready."
   ]
  },
  {
   "cell_type": "markdown",
   "metadata": {},
   "source": [
    "We will first drop the duplicated rows in dataset"
   ]
  },
  {
   "cell_type": "code",
   "execution_count": 65,
   "metadata": {},
   "outputs": [],
   "source": [
    "# Removing duplicated values in titles\n",
    "title.drop_duplicates(keep = 'first',inplace = True)\n",
    "title.reset_index(drop = 'True',inplace = True)"
   ]
  },
  {
   "cell_type": "markdown",
   "metadata": {},
   "source": [
    "We will calculate missing value percentage in each column for title dataset."
   ]
  },
  {
   "cell_type": "code",
   "execution_count": 66,
   "metadata": {},
   "outputs": [
    {
     "data": {
      "text/plain": [
       "seasons                 86.248480\n",
       "age_certification       65.707337\n",
       "tmdb_score              21.078233\n",
       "imdb_votes              10.447912\n",
       "imdb_score              10.346575\n",
       "imdb_id                  6.759222\n",
       "tmdb_popularity          5.543170\n",
       "description              1.205918\n",
       "runtime                  0.000000\n",
       "title                    0.000000\n",
       "type                     0.000000\n",
       "id                       0.000000\n",
       "release_year             0.000000\n",
       "genres                   0.000000\n",
       "production_countries     0.000000\n",
       "dtype: float64"
      ]
     },
     "execution_count": 66,
     "metadata": {},
     "output_type": "execute_result"
    }
   ],
   "source": [
    "# Calculating missing values for title DataFrame\n",
    "missing_percent(title)"
   ]
  },
  {
   "cell_type": "markdown",
   "metadata": {},
   "source": [
    "age_certifications and seasons has significant missing values. Dropping this column is the preffered."
   ]
  },
  {
   "cell_type": "code",
   "execution_count": 67,
   "metadata": {},
   "outputs": [],
   "source": [
    "# Dropping columns age_certification and seasons\n",
    "title.drop(columns = ['age_certification','seasons'],axis = 1,inplace = True)"
   ]
  },
  {
   "cell_type": "code",
   "execution_count": 68,
   "metadata": {},
   "outputs": [
    {
     "data": {
      "text/plain": [
       "id                         0\n",
       "title                      0\n",
       "type                       0\n",
       "description              119\n",
       "release_year               0\n",
       "runtime                    0\n",
       "genres                     0\n",
       "production_countries       0\n",
       "imdb_id                  667\n",
       "imdb_score              1021\n",
       "imdb_votes              1031\n",
       "tmdb_popularity          547\n",
       "tmdb_score              2080\n",
       "dtype: int64"
      ]
     },
     "execution_count": 68,
     "metadata": {},
     "output_type": "execute_result"
    }
   ],
   "source": [
    "title.isna().sum()"
   ]
  },
  {
   "cell_type": "markdown",
   "metadata": {},
   "source": [
    "Some of our values in description and imdb_id in title dataset are missing. We will replace it with \"Not Avalibale\"."
   ]
  },
  {
   "cell_type": "code",
   "execution_count": 69,
   "metadata": {},
   "outputs": [],
   "source": [
    "# Filling NA's in description and imdb_id with Not Available\n",
    "title['description'] = title['description'].fillna('Not Available',axis=0)\n",
    "title['imdb_id'] = title['imdb_id'].fillna('Not Available',axis = 0)"
   ]
  },
  {
   "cell_type": "code",
   "execution_count": 70,
   "metadata": {},
   "outputs": [],
   "source": [
    "# Function for calculating group-wise mode.\n",
    "def fill_mode(dataset,col):\n",
    "    result = dataset[col].fillna(dataset.groupby('type')[col].transform(lambda x: x.mode().iloc[0]))\n",
    "    return result"
   ]
  },
  {
   "cell_type": "markdown",
   "metadata": {},
   "source": [
    "\"imdb_score\",\"imdb_votes\",\"tmdb_popularity\",and \"tmdb_score\" have some null values. We will replace them with mode their column data."
   ]
  },
  {
   "cell_type": "code",
   "execution_count": 71,
   "metadata": {},
   "outputs": [],
   "source": [
    "# Filing missing values in imdb_score,imdb_votes,tmdb_popularity and tmdb_score based on type\n",
    "title['imdb_score'] = fill_mode(title,'imdb_score')\n",
    "title['imdb_votes'] = fill_mode(title,'imdb_votes')\n",
    "title['tmdb_popularity'] = fill_mode(title,'tmdb_popularity')\n",
    "title['tmdb_score'] = fill_mode(title,'tmdb_score')"
   ]
  },
  {
   "cell_type": "code",
   "execution_count": 72,
   "metadata": {},
   "outputs": [
    {
     "data": {
      "text/plain": [
       "id                      0\n",
       "title                   0\n",
       "type                    0\n",
       "description             0\n",
       "release_year            0\n",
       "runtime                 0\n",
       "genres                  0\n",
       "production_countries    0\n",
       "imdb_id                 0\n",
       "imdb_score              0\n",
       "imdb_votes              0\n",
       "tmdb_popularity         0\n",
       "tmdb_score              0\n",
       "dtype: int64"
      ]
     },
     "execution_count": 72,
     "metadata": {},
     "output_type": "execute_result"
    }
   ],
   "source": [
    "title.isna().sum()"
   ]
  },
  {
   "cell_type": "markdown",
   "metadata": {},
   "source": [
    "The 'genres' and 'production_countries' column are in the format like list. Although there seems to be no null values in these columns, they may be hidden in the form like '[]'."
   ]
  },
  {
   "cell_type": "code",
   "execution_count": 73,
   "metadata": {},
   "outputs": [
    {
     "data": {
      "text/html": [
       "<div>\n",
       "<style scoped>\n",
       "    .dataframe tbody tr th:only-of-type {\n",
       "        vertical-align: middle;\n",
       "    }\n",
       "\n",
       "    .dataframe tbody tr th {\n",
       "        vertical-align: top;\n",
       "    }\n",
       "\n",
       "    .dataframe thead th {\n",
       "        text-align: right;\n",
       "    }\n",
       "</style>\n",
       "<table border=\"1\" class=\"dataframe\">\n",
       "  <thead>\n",
       "    <tr style=\"text-align: right;\">\n",
       "      <th></th>\n",
       "      <th>id</th>\n",
       "      <th>title</th>\n",
       "      <th>type</th>\n",
       "      <th>description</th>\n",
       "      <th>release_year</th>\n",
       "      <th>runtime</th>\n",
       "      <th>genres</th>\n",
       "      <th>production_countries</th>\n",
       "      <th>imdb_id</th>\n",
       "      <th>imdb_score</th>\n",
       "      <th>imdb_votes</th>\n",
       "      <th>tmdb_popularity</th>\n",
       "      <th>tmdb_score</th>\n",
       "    </tr>\n",
       "  </thead>\n",
       "  <tbody>\n",
       "    <tr>\n",
       "      <th>79</th>\n",
       "      <td>tm348419</td>\n",
       "      <td>Payoff in the Pacific</td>\n",
       "      <td>MOVIE</td>\n",
       "      <td>A documentary on .S. efforts against the Japan...</td>\n",
       "      <td>1945</td>\n",
       "      <td>56</td>\n",
       "      <td>[]</td>\n",
       "      <td>[]</td>\n",
       "      <td>Not Available</td>\n",
       "      <td>6.0</td>\n",
       "      <td>11.0</td>\n",
       "      <td>0.600</td>\n",
       "      <td>6.0</td>\n",
       "    </tr>\n",
       "    <tr>\n",
       "      <th>379</th>\n",
       "      <td>tm18966</td>\n",
       "      <td>D-Day: The Normandy Invasion</td>\n",
       "      <td>MOVIE</td>\n",
       "      <td>Focusing on both the strategic overview of the...</td>\n",
       "      <td>1945</td>\n",
       "      <td>21</td>\n",
       "      <td>[]</td>\n",
       "      <td>[]</td>\n",
       "      <td>Not Available</td>\n",
       "      <td>6.0</td>\n",
       "      <td>11.0</td>\n",
       "      <td>0.600</td>\n",
       "      <td>8.0</td>\n",
       "    </tr>\n",
       "    <tr>\n",
       "      <th>382</th>\n",
       "      <td>tm83465</td>\n",
       "      <td>Sunny</td>\n",
       "      <td>MOVIE</td>\n",
       "      <td>Sunny is a 1941 film American film directed by...</td>\n",
       "      <td>1941</td>\n",
       "      <td>98</td>\n",
       "      <td>[]</td>\n",
       "      <td>['US']</td>\n",
       "      <td>tt0034243</td>\n",
       "      <td>5.4</td>\n",
       "      <td>196.0</td>\n",
       "      <td>1.374</td>\n",
       "      <td>6.0</td>\n",
       "    </tr>\n",
       "    <tr>\n",
       "      <th>580</th>\n",
       "      <td>tm406498</td>\n",
       "      <td>Nam Iruvar</td>\n",
       "      <td>MOVIE</td>\n",
       "      <td>Sukumar is misled into investing all his savin...</td>\n",
       "      <td>1947</td>\n",
       "      <td>153</td>\n",
       "      <td>[]</td>\n",
       "      <td>['IN']</td>\n",
       "      <td>tt0240750</td>\n",
       "      <td>6.3</td>\n",
       "      <td>14.0</td>\n",
       "      <td>0.600</td>\n",
       "      <td>6.0</td>\n",
       "    </tr>\n",
       "    <tr>\n",
       "      <th>639</th>\n",
       "      <td>tm1733</td>\n",
       "      <td>Adventure in Iraq</td>\n",
       "      <td>MOVIE</td>\n",
       "      <td>Five Allied soldiers in an airplane flying to ...</td>\n",
       "      <td>1943</td>\n",
       "      <td>65</td>\n",
       "      <td>[]</td>\n",
       "      <td>['US']</td>\n",
       "      <td>tt0035610</td>\n",
       "      <td>5.0</td>\n",
       "      <td>172.0</td>\n",
       "      <td>0.950</td>\n",
       "      <td>6.0</td>\n",
       "    </tr>\n",
       "  </tbody>\n",
       "</table>\n",
       "</div>"
      ],
      "text/plain": [
       "           id                         title   type  \\\n",
       "79   tm348419         Payoff in the Pacific  MOVIE   \n",
       "379   tm18966  D-Day: The Normandy Invasion  MOVIE   \n",
       "382   tm83465                         Sunny  MOVIE   \n",
       "580  tm406498                    Nam Iruvar  MOVIE   \n",
       "639    tm1733             Adventure in Iraq  MOVIE   \n",
       "\n",
       "                                           description  release_year  runtime  \\\n",
       "79   A documentary on .S. efforts against the Japan...          1945       56   \n",
       "379  Focusing on both the strategic overview of the...          1945       21   \n",
       "382  Sunny is a 1941 film American film directed by...          1941       98   \n",
       "580  Sukumar is misled into investing all his savin...          1947      153   \n",
       "639  Five Allied soldiers in an airplane flying to ...          1943       65   \n",
       "\n",
       "    genres production_countries        imdb_id  imdb_score  imdb_votes  \\\n",
       "79      []                   []  Not Available         6.0        11.0   \n",
       "379     []                   []  Not Available         6.0        11.0   \n",
       "382     []               ['US']      tt0034243         5.4       196.0   \n",
       "580     []               ['IN']      tt0240750         6.3        14.0   \n",
       "639     []               ['US']      tt0035610         5.0       172.0   \n",
       "\n",
       "     tmdb_popularity  tmdb_score  \n",
       "79             0.600         6.0  \n",
       "379            0.600         8.0  \n",
       "382            1.374         6.0  \n",
       "580            0.600         6.0  \n",
       "639            0.950         6.0  "
      ]
     },
     "execution_count": 73,
     "metadata": {},
     "output_type": "execute_result"
    }
   ],
   "source": [
    "title[(title['genres'] == '[]') | (title['genres'].isna()) | (title['production_countries'] == '[]') | (title['production_countries'].isna())].head(5)"
   ]
  },
  {
   "cell_type": "code",
   "execution_count": 74,
   "metadata": {},
   "outputs": [],
   "source": [
    "# Replacing \"[]\" with nan\n",
    "title['genres'] = title['genres'].replace(\"[]\",np.nan)\n",
    "title['production_countries'] = title['production_countries'].replace(\"[]\",np.nan)"
   ]
  },
  {
   "cell_type": "code",
   "execution_count": 75,
   "metadata": {},
   "outputs": [
    {
     "data": {
      "text/plain": [
       "production_countries    8.319822\n",
       "genres                  2.117957\n",
       "type                    0.000000\n",
       "title                   0.000000\n",
       "id                      0.000000\n",
       "release_year            0.000000\n",
       "description             0.000000\n",
       "runtime                 0.000000\n",
       "imdb_id                 0.000000\n",
       "imdb_score              0.000000\n",
       "imdb_votes              0.000000\n",
       "tmdb_popularity         0.000000\n",
       "tmdb_score              0.000000\n",
       "dtype: float64"
      ]
     },
     "execution_count": 75,
     "metadata": {},
     "output_type": "execute_result"
    }
   ],
   "source": [
    "missing_percent(title)"
   ]
  },
  {
   "cell_type": "code",
   "execution_count": 76,
   "metadata": {},
   "outputs": [],
   "source": [
    "# Dropping missing values in genres and production_countries\n",
    "title.dropna(subset=['genres','production_countries'],axis = 0,inplace = True)"
   ]
  },
  {
   "cell_type": "code",
   "execution_count": 77,
   "metadata": {},
   "outputs": [
    {
     "name": "stdout",
     "output_type": "stream",
     "text": [
      "<class 'pandas.core.frame.DataFrame'>\n",
      "Index: 8948 entries, 0 to 9865\n",
      "Data columns (total 13 columns):\n",
      " #   Column                Non-Null Count  Dtype  \n",
      "---  ------                --------------  -----  \n",
      " 0   id                    8948 non-null   object \n",
      " 1   title                 8948 non-null   object \n",
      " 2   type                  8948 non-null   object \n",
      " 3   description           8948 non-null   object \n",
      " 4   release_year          8948 non-null   int64  \n",
      " 5   runtime               8948 non-null   int64  \n",
      " 6   genres                8948 non-null   object \n",
      " 7   production_countries  8948 non-null   object \n",
      " 8   imdb_id               8948 non-null   object \n",
      " 9   imdb_score            8948 non-null   float64\n",
      " 10  imdb_votes            8948 non-null   float64\n",
      " 11  tmdb_popularity       8948 non-null   float64\n",
      " 12  tmdb_score            8948 non-null   float64\n",
      "dtypes: float64(4), int64(2), object(7)\n",
      "memory usage: 978.7+ KB\n"
     ]
    }
   ],
   "source": [
    "title.info()"
   ]
  },
  {
   "cell_type": "code",
   "execution_count": 78,
   "metadata": {},
   "outputs": [
    {
     "data": {
      "text/html": [
       "<div>\n",
       "<style scoped>\n",
       "    .dataframe tbody tr th:only-of-type {\n",
       "        vertical-align: middle;\n",
       "    }\n",
       "\n",
       "    .dataframe tbody tr th {\n",
       "        vertical-align: top;\n",
       "    }\n",
       "\n",
       "    .dataframe thead th {\n",
       "        text-align: right;\n",
       "    }\n",
       "</style>\n",
       "<table border=\"1\" class=\"dataframe\">\n",
       "  <thead>\n",
       "    <tr style=\"text-align: right;\">\n",
       "      <th></th>\n",
       "      <th>release_year</th>\n",
       "      <th>runtime</th>\n",
       "      <th>imdb_score</th>\n",
       "      <th>imdb_votes</th>\n",
       "      <th>tmdb_popularity</th>\n",
       "      <th>tmdb_score</th>\n",
       "    </tr>\n",
       "  </thead>\n",
       "  <tbody>\n",
       "    <tr>\n",
       "      <th>count</th>\n",
       "      <td>8948.000000</td>\n",
       "      <td>8948.000000</td>\n",
       "      <td>8948.000000</td>\n",
       "      <td>8.948000e+03</td>\n",
       "      <td>8948.000000</td>\n",
       "      <td>8948.000000</td>\n",
       "    </tr>\n",
       "    <tr>\n",
       "      <th>mean</th>\n",
       "      <td>1999.937193</td>\n",
       "      <td>87.293138</td>\n",
       "      <td>5.997877</td>\n",
       "      <td>8.407505e+03</td>\n",
       "      <td>7.103915</td>\n",
       "      <td>6.037819</td>\n",
       "    </tr>\n",
       "    <tr>\n",
       "      <th>std</th>\n",
       "      <td>26.365947</td>\n",
       "      <td>32.680810</td>\n",
       "      <td>1.275121</td>\n",
       "      <td>4.565037e+04</td>\n",
       "      <td>30.570296</td>\n",
       "      <td>1.406378</td>\n",
       "    </tr>\n",
       "    <tr>\n",
       "      <th>min</th>\n",
       "      <td>1912.000000</td>\n",
       "      <td>1.000000</td>\n",
       "      <td>1.100000</td>\n",
       "      <td>5.000000e+00</td>\n",
       "      <td>0.000164</td>\n",
       "      <td>0.800000</td>\n",
       "    </tr>\n",
       "    <tr>\n",
       "      <th>25%</th>\n",
       "      <td>1992.000000</td>\n",
       "      <td>68.750000</td>\n",
       "      <td>5.300000</td>\n",
       "      <td>9.700000e+01</td>\n",
       "      <td>1.276750</td>\n",
       "      <td>5.400000</td>\n",
       "    </tr>\n",
       "    <tr>\n",
       "      <th>50%</th>\n",
       "      <td>2013.000000</td>\n",
       "      <td>90.000000</td>\n",
       "      <td>6.000000</td>\n",
       "      <td>4.340000e+02</td>\n",
       "      <td>2.635000</td>\n",
       "      <td>6.000000</td>\n",
       "    </tr>\n",
       "    <tr>\n",
       "      <th>75%</th>\n",
       "      <td>2018.000000</td>\n",
       "      <td>103.000000</td>\n",
       "      <td>6.900000</td>\n",
       "      <td>2.176000e+03</td>\n",
       "      <td>5.825500</td>\n",
       "      <td>6.800000</td>\n",
       "    </tr>\n",
       "    <tr>\n",
       "      <th>max</th>\n",
       "      <td>2022.000000</td>\n",
       "      <td>549.000000</td>\n",
       "      <td>9.900000</td>\n",
       "      <td>1.133692e+06</td>\n",
       "      <td>1437.906000</td>\n",
       "      <td>10.000000</td>\n",
       "    </tr>\n",
       "  </tbody>\n",
       "</table>\n",
       "</div>"
      ],
      "text/plain": [
       "       release_year      runtime   imdb_score    imdb_votes  tmdb_popularity  \\\n",
       "count   8948.000000  8948.000000  8948.000000  8.948000e+03      8948.000000   \n",
       "mean    1999.937193    87.293138     5.997877  8.407505e+03         7.103915   \n",
       "std       26.365947    32.680810     1.275121  4.565037e+04        30.570296   \n",
       "min     1912.000000     1.000000     1.100000  5.000000e+00         0.000164   \n",
       "25%     1992.000000    68.750000     5.300000  9.700000e+01         1.276750   \n",
       "50%     2013.000000    90.000000     6.000000  4.340000e+02         2.635000   \n",
       "75%     2018.000000   103.000000     6.900000  2.176000e+03         5.825500   \n",
       "max     2022.000000   549.000000     9.900000  1.133692e+06      1437.906000   \n",
       "\n",
       "        tmdb_score  \n",
       "count  8948.000000  \n",
       "mean      6.037819  \n",
       "std       1.406378  \n",
       "min       0.800000  \n",
       "25%       5.400000  \n",
       "50%       6.000000  \n",
       "75%       6.800000  \n",
       "max      10.000000  "
      ]
     },
     "execution_count": 78,
     "metadata": {},
     "output_type": "execute_result"
    }
   ],
   "source": [
    "title.describe()"
   ]
  },
  {
   "cell_type": "markdown",
   "metadata": {},
   "source": [
    "Upon investtigating runtime column we find that there are some outliers. Here some runtime may be very less than average runtime, indicating it may be a movie/show clip."
   ]
  },
  {
   "cell_type": "code",
   "execution_count": 79,
   "metadata": {},
   "outputs": [
    {
     "data": {
      "text/plain": [
       "<Axes: xlabel='type', ylabel='runtime'>"
      ]
     },
     "execution_count": 79,
     "metadata": {},
     "output_type": "execute_result"
    },
    {
     "data": {
      "image/png": "[encoded data removed]",
      "text/plain": [
       "<Figure size 1000x600 with 1 Axes>"
      ]
     },
     "metadata": {},
     "output_type": "display_data"
    }
   ],
   "source": [
    "# Visulaizing Outliers for movies and shows.\n",
    "plt.figure(figsize = (10,6))\n",
    "sns.boxplot(title,x = 'type',y = 'runtime',hue = 'type')"
   ]
  },
  {
   "cell_type": "markdown",
   "metadata": {},
   "source": [
    "- We can see here that there are some outliers that needs to be removed/treated, particularly those that have significantly less runtime. We can see this type of outlier in movies.\n",
    "- For outliers with significantly high runtime, we should allow it in data, since some movies/shows that are documentries or experimental films tends to be of higher runtime."
   ]
  },
  {
   "cell_type": "code",
   "execution_count": 80,
   "metadata": {},
   "outputs": [],
   "source": [
    "df_movies = title[title['type'] == 'MOVIE']\n",
    "df_show = title[title['type'] == 'SHOW']"
   ]
  },
  {
   "cell_type": "code",
   "execution_count": 81,
   "metadata": {},
   "outputs": [
    {
     "name": "stdout",
     "output_type": "stream",
     "text": [
      "lower fence for movie 42.5\n",
      "% lower outliers for movie is 0.95%\n"
     ]
    }
   ],
   "source": [
    "# Code for calculating percentage lower bound outliers.\n",
    "Q1 = df_movies['runtime'].quantile(0.25)\n",
    "Q3 = df_movies['runtime'].quantile(0.75)\n",
    "IQR = Q3 - Q1\n",
    "lower_fence = Q1 - (1.5 * IQR)\n",
    "pct_outliers = round((len(df_movies[df_movies['runtime'] < lower_fence])/len(df_movies))*100,2)\n",
    "outliers = df_movies[df_movies['runtime'] < lower_fence]\n",
    "print(f\"lower fence for movie {lower_fence}\")\n",
    "print(f\"% lower outliers for movie is {pct_outliers}%\")"
   ]
  },
  {
   "cell_type": "markdown",
   "metadata": {},
   "source": [
    "We have outliers less than 1% that is about 0.95% of whole dataset. We can safely remove it."
   ]
  },
  {
   "cell_type": "code",
   "execution_count": 82,
   "metadata": {},
   "outputs": [],
   "source": [
    "# Code for removing outliers.\n",
    "df_movies = df_movies.drop(outliers.index)"
   ]
  },
  {
   "cell_type": "code",
   "execution_count": 83,
   "metadata": {},
   "outputs": [],
   "source": [
    "# cocatenate back the dataframes\n",
    "df_new = pd.concat([df_show,df_movies],axis = 0)"
   ]
  },
  {
   "cell_type": "code",
   "execution_count": 84,
   "metadata": {},
   "outputs": [],
   "source": [
    "# Converting 'genres' and 'production_countries' column from string to list like structures.\n",
    "df_new['genres'] = df_new['genres'].apply(lambda x: ast.literal_eval(x) if isinstance(x,str) else [])\n",
    "df_new['production_countries'] = df_new['production_countries'].apply(lambda x: ast.literal_eval(x) if isinstance(x,str) else [])"
   ]
  },
  {
   "cell_type": "code",
   "execution_count": 85,
   "metadata": {},
   "outputs": [
    {
     "name": "stdout",
     "output_type": "stream",
     "text": [
      "<class 'pandas.core.frame.DataFrame'>\n",
      "Index: 8874 entries, 0 to 9865\n",
      "Data columns (total 13 columns):\n",
      " #   Column                Non-Null Count  Dtype  \n",
      "---  ------                --------------  -----  \n",
      " 0   id                    8874 non-null   object \n",
      " 1   title                 8874 non-null   object \n",
      " 2   type                  8874 non-null   object \n",
      " 3   description           8874 non-null   object \n",
      " 4   release_year          8874 non-null   int64  \n",
      " 5   runtime               8874 non-null   int64  \n",
      " 6   genres                8874 non-null   object \n",
      " 7   production_countries  8874 non-null   object \n",
      " 8   imdb_id               8874 non-null   object \n",
      " 9   imdb_score            8874 non-null   float64\n",
      " 10  imdb_votes            8874 non-null   float64\n",
      " 11  tmdb_popularity       8874 non-null   float64\n",
      " 12  tmdb_score            8874 non-null   float64\n",
      "dtypes: float64(4), int64(2), object(7)\n",
      "memory usage: 970.6+ KB\n"
     ]
    }
   ],
   "source": [
    "# Rechecking the dataset info\n",
    "df_new.info()"
   ]
  },
  {
   "cell_type": "markdown",
   "metadata": {},
   "source": [
    "Now we will create an exploded dataframe based on columns 'genres' and 'production_countriy' for better analysis."
   ]
  },
  {
   "cell_type": "code",
   "execution_count": 86,
   "metadata": {},
   "outputs": [],
   "source": [
    "df_exploded_genre = df_new.explode('genres') # Exploded dataset based on 'genres'\n",
    "df_exploded_country = df_new.explode('production_countries') # Exploded dataset based on 'production_countries'"
   ]
  },
  {
   "cell_type": "markdown",
   "metadata": {
    "id": "MSa1f5Uengrz"
   },
   "source": [
    "### What all manipulations have you done and insights you found?"
   ]
  },
  {
   "cell_type": "markdown",
   "metadata": {
    "id": "LbyXE7I1olp8"
   },
   "source": [
    "- Some data in runtime column had very less runtime (min) indicating they were short videos.\n",
    "- After treating and removing missing values and outliers in the dataset, we are left with 8874 rows with 12 columns.\n",
    "- We still have 'genres' and 'production_countries' column data as list like structure, which we have exploded it one by one in two datsets for better analysis."
   ]
  },
  {
   "cell_type": "markdown",
   "metadata": {
    "id": "GF8Ens_Soomf"
   },
   "source": [
    "## ***4. Data Vizualization, Storytelling & Experimenting with charts : Understand the relationships between variables***"
   ]
  },
  {
   "cell_type": "markdown",
   "metadata": {},
   "source": [
    "#### Chart - 1"
   ]
  },
  {
   "cell_type": "code",
   "execution_count": 87,
   "metadata": {},
   "outputs": [
    {
     "data": {
      "image/png": "[encoded data removed]",
      "text/plain": [
       "<Figure size 800x600 with 1 Axes>"
      ]
     },
     "metadata": {},
     "output_type": "display_data"
    }
   ],
   "source": [
    "# Chart - 1 visualization code\n",
    "df_temp = df_new.groupby('type').size().reset_index(name = 'count')\n",
    "plt.figure(figsize = (8,6))\n",
    "plt.title(\"Distribution of Content Type on Amazon Prime Video\")\n",
    "plt.pie(df_temp['count'],labels = df_temp['type'],autopct='%1.1f%%',colors=['lightgreen','coral'])\n",
    "plt.show()"
   ]
  },
  {
   "cell_type": "markdown",
   "metadata": {},
   "source": [
    "##### 1. Why did you pick the specific chart?"
   ]
  },
  {
   "cell_type": "markdown",
   "metadata": {},
   "source": [
    "This Pie chart shows the percentage distribution of categories across the plateform."
   ]
  },
  {
   "cell_type": "markdown",
   "metadata": {},
   "source": [
    "##### 2. What is/are the insight(s) found from the chart?"
   ]
  },
  {
   "cell_type": "markdown",
   "metadata": {},
   "source": [
    "- Amazon Prime Video streaming plateform is dominated by Movies (87%)\n",
    "- Contribution of Shows is about 13%"
   ]
  },
  {
   "cell_type": "markdown",
   "metadata": {},
   "source": [
    "##### 3. Will the gained insights help creating a positive business impact?\n",
    "Are there any insights that lead to negative growth? Justify with specific reason."
   ]
  },
  {
   "cell_type": "markdown",
   "metadata": {},
   "source": [
    "Movies is more dominated in this plateform, making it ideal for releasing/licensing new movies."
   ]
  },
  {
   "cell_type": "markdown",
   "metadata": {
    "id": "0wOQAZs5pc--"
   },
   "source": [
    "#### Chart - 2"
   ]
  },
  {
   "cell_type": "code",
   "execution_count": 88,
   "metadata": {
    "id": "7v_ESjsspbW7"
   },
   "outputs": [
    {
     "data": {
      "image/png": "[encoded data removed]",
      "text/plain": [
       "<Figure size 800x600 with 1 Axes>"
      ]
     },
     "metadata": {},
     "output_type": "display_data"
    }
   ],
   "source": [
    "# Chart - 1 visualization code\n",
    "plt.figure(figsize = (8,6))\n",
    "plt.title(\"Top 7 Genres that dominate the Plateform\")\n",
    "df_temp = df_exploded_genre.groupby(['type','genres']).size().reset_index(name = 'count').sort_values(by = 'count',ascending = False)\n",
    "sns.barplot(df_temp,y = 'genres',x = 'count',hue = 'type',palette = 'viridis',order = df_temp['genres'].value_counts().index[:7])\n",
    "plt.grid()\n",
    "plt.xlabel(\"Number of Movies/Shows\")\n",
    "plt.ylabel(\"Genres\")\n",
    "plt.show()"
   ]
  },
  {
   "cell_type": "markdown",
   "metadata": {
    "id": "K5QZ13OEpz2H"
   },
   "source": [
    "##### 1. Why did you pick the specific chart?"
   ]
  },
  {
   "cell_type": "markdown",
   "metadata": {
    "id": "XESiWehPqBRc"
   },
   "source": [
    "This chart shows the dominance of genre type on the plateform"
   ]
  },
  {
   "cell_type": "markdown",
   "metadata": {
    "id": "lQ7QKXXCp7Bj"
   },
   "source": [
    "##### 2. What is/are the insight(s) found from the chart?"
   ]
  },
  {
   "cell_type": "markdown",
   "metadata": {
    "id": "C_j1G7yiqdRP"
   },
   "source": [
    "- For Movies, Genre type drama is most preffered followed by comedy, thriller, romance, action and so on.\n",
    "- Fo Shows, Although less compared to movies, genre type drama is most preffered followed by comedy, action crime and so on."
   ]
  },
  {
   "cell_type": "markdown",
   "metadata": {
    "id": "448CDAPjqfQr"
   },
   "source": [
    "##### 3. Will the gained insights help creating a positive business impact?\n",
    "Are there any insights that lead to negative growth? Justify with specific reason."
   ]
  },
  {
   "cell_type": "markdown",
   "metadata": {
    "id": "3cspy4FjqxJW"
   },
   "source": [
    "Since drame is most preffered for both content type, investing and licensing on dramatical contents may increase user engagement."
   ]
  },
  {
   "cell_type": "markdown",
   "metadata": {},
   "source": [
    "#### Chart - 3"
   ]
  },
  {
   "cell_type": "code",
   "execution_count": 89,
   "metadata": {},
   "outputs": [
    {
     "data": {
      "image/png": "[encoded data removed]",
      "text/plain": [
       "<Figure size 1000x600 with 1 Axes>"
      ]
     },
     "metadata": {},
     "output_type": "display_data"
    }
   ],
   "source": [
    "# Chart - 3 visualization code\n",
    "df_temp_exploded = df_exploded_genre.explode('production_countries')\n",
    "df_temp = df_temp_exploded[df_temp_exploded['type'] == 'MOVIE']\n",
    "df_temp = df_temp.groupby(['genres','production_countries']).size().reset_index(name = 'count').sort_values(by = 'count',ascending = False)\n",
    "top_genres = df_temp['genres'].value_counts().index[:4]\n",
    "df_filtered = df_temp[df_temp['genres'].isin(top_genres)]\n",
    "top_countries = df_filtered['production_countries'].value_counts().index[:7]\n",
    "plt.figure(figsize = (10,6))\n",
    "plt.title(\"Top 7 countries with top 4 genres (MOVIES)\")\n",
    "sns.barplot(df_filtered,y = 'count',x = 'production_countries',hue = 'genres',order = top_countries,palette = 'viridis')\n",
    "plt.grid()\n",
    "plt.ylabel(\"Number of Movies\")\n",
    "plt.xlabel(\"Countries\")\n",
    "plt.show()"
   ]
  },
  {
   "cell_type": "markdown",
   "metadata": {},
   "source": [
    "##### 1. Why did you pick the specific chart?"
   ]
  },
  {
   "cell_type": "markdown",
   "metadata": {},
   "source": [
    "This chart shows the top Genres for Movies in top 7 countries."
   ]
  },
  {
   "cell_type": "markdown",
   "metadata": {},
   "source": [
    "##### 2. What is/are the insight(s) found from the chart?"
   ]
  },
  {
   "cell_type": "markdown",
   "metadata": {},
   "source": [
    "- In all the Top 7 countries 'drama' is most preffered, followed by comedy.\n",
    "- In India 'action' movies are more preffered than thriller. Although here also drama is most preffered."
   ]
  },
  {
   "cell_type": "markdown",
   "metadata": {},
   "source": [
    "##### 3. Will the gained insights help creating a positive business impact?\n",
    "Are there any insights that lead to negative growth? Justify with specific reason."
   ]
  },
  {
   "cell_type": "markdown",
   "metadata": {},
   "source": [
    "- Movies with the combination of 'drama','comedy','thriller' and 'action' are most released/licensed in US, India, United Kingdom(Great Britain), Canada, France and so on.\n",
    "- Licensing more movies from other Countries such as India, Great Britain, etc can positively impact bussiness."
   ]
  },
  {
   "cell_type": "markdown",
   "metadata": {},
   "source": [
    "#### Chart - 4"
   ]
  },
  {
   "cell_type": "code",
   "execution_count": 90,
   "metadata": {},
   "outputs": [
    {
     "data": {
      "image/png": "[encoded data removed]",
      "text/plain": [
       "<Figure size 1000x600 with 1 Axes>"
      ]
     },
     "metadata": {},
     "output_type": "display_data"
    }
   ],
   "source": [
    "# Chart - 4 visualization code\n",
    "df_temp = df_temp_exploded[df_temp_exploded['type'] == 'SHOW']\n",
    "df_temp = df_temp.groupby(['genres','production_countries']).size().reset_index(name = 'count').sort_values(by = 'count',ascending = False)\n",
    "top_genres = df_temp['genres'].value_counts().index[:4]\n",
    "df_filtered = df_temp[df_temp['genres'].isin(top_genres)]\n",
    "top_countries = df_filtered['production_countries'].value_counts().index[:7]\n",
    "plt.figure(figsize = (10,6))\n",
    "plt.title(\"Top 7 countries with top 4 genres (SHOW)\")\n",
    "sns.barplot(df_filtered,y = 'count',x = 'production_countries',hue = 'genres',order = top_countries,palette = 'viridis')\n",
    "plt.grid()\n",
    "plt.ylabel(\"Number of Shows\")\n",
    "plt.xlabel(\"Countries\")\n",
    "plt.show()"
   ]
  },
  {
   "cell_type": "markdown",
   "metadata": {},
   "source": [
    "##### 1. Why did you pick the specific chart?"
   ]
  },
  {
   "cell_type": "markdown",
   "metadata": {},
   "source": [
    "This chart shows the top Genres for Shows in top 7 countries."
   ]
  },
  {
   "cell_type": "markdown",
   "metadata": {},
   "source": [
    "##### 2. What is/are the insight(s) found from the chart?"
   ]
  },
  {
   "cell_type": "markdown",
   "metadata": {},
   "source": [
    "- Shows in US are released generally with combination of drama and comedy.\n",
    "- Shows in United Kingdom (Great Britain) are relaesed generally with combination of drama,comedy and documentries.\n",
    "- Shows in Japan are mostly animation based with drama and comedy.\n",
    "- Shows in China are drama based.\n",
    "- Shows in Canada are mostly based on comedy and animation."
   ]
  },
  {
   "cell_type": "markdown",
   "metadata": {},
   "source": [
    "##### 3. Will the gained insights help creating a positive business impact?\n",
    "Are there any insights that lead to negative growth? Justify with specific reason."
   ]
  },
  {
   "cell_type": "markdown",
   "metadata": {},
   "source": [
    "Some insights can help creating a positive bussiness impact such as\n",
    "- Investing/Licensing on shows of particular genre for a particular country could positively impact the bussiness.\n",
    "- Targeting countries for respective genre could also positively impact company growth."
   ]
  },
  {
   "cell_type": "markdown",
   "metadata": {
    "id": "KSlN3yHqYklG"
   },
   "source": [
    "#### Chart - 5"
   ]
  },
  {
   "cell_type": "code",
   "execution_count": 91,
   "metadata": {
    "id": "R4YgtaqtYklH"
   },
   "outputs": [
    {
     "data": {
      "image/png": "[encoded data removed]",
      "text/plain": [
       "<Figure size 800x600 with 1 Axes>"
      ]
     },
     "metadata": {},
     "output_type": "display_data"
    }
   ],
   "source": [
    "# Chart - 2 visualization code\n",
    "df_temp = df_exploded_country.groupby(['type','production_countries']).size().reset_index(name = 'count').sort_values(by = 'count',ascending=False)\n",
    "plt.figure(figsize=(8,6))\n",
    "plt.title(\"Top 10 Countries with most number of Movie/Show\")\n",
    "sns.barplot(df_temp,y = 'production_countries', x = 'count',hue = 'type',palette = 'husl',\n",
    "            order = df_temp['production_countries'].value_counts().index[:10])\n",
    "plt.xlabel(\"Number of contents\")\n",
    "plt.ylabel(\"Countries\")\n",
    "plt.grid()\n",
    "plt.show()"
   ]
  },
  {
   "cell_type": "markdown",
   "metadata": {
    "id": "t6dVpIINYklI"
   },
   "source": [
    "##### 1. Why did you pick the specific chart?"
   ]
  },
  {
   "cell_type": "markdown",
   "metadata": {
    "id": "5aaW0BYyYklI"
   },
   "source": [
    "This bar chart shows the top 10 countries with most number of movie/show released."
   ]
  },
  {
   "cell_type": "markdown",
   "metadata": {
    "id": "ijmpgYnKYklI"
   },
   "source": [
    "##### 2. What is/are the insight(s) found from the chart?"
   ]
  },
  {
   "cell_type": "markdown",
   "metadata": {
    "id": "PSx9atu2YklI"
   },
   "source": [
    "- Top Producer for Movies are US,India, and United Kingdom (Great Britain) followed by Canada, France and Germany.\n",
    "- Top Producer for Shows are US, Germany, and Japan"
   ]
  },
  {
   "cell_type": "markdown",
   "metadata": {
    "id": "-JiQyfWJYklI"
   },
   "source": [
    "##### 3. Will the gained insights help creating a positive business impact?\n",
    "Are there any insights that lead to negative growth? Justify with specific reason."
   ]
  },
  {
   "cell_type": "markdown",
   "metadata": {
    "id": "BcBbebzrYklV"
   },
   "source": [
    "- Amazon Prime Video plateform should relaese/License more shows targeting those regions where movies to show ratio are very high particularly in India and Canada. People fond of watching movies will also be fond of series/shows.\n",
    "- Investing/Licensing overall in Shows could potentially benefit the plateform by engaging more users."
   ]
  },
  {
   "cell_type": "markdown",
   "metadata": {
    "id": "EM7whBJCYoAo"
   },
   "source": [
    "#### Chart - 6"
   ]
  },
  {
   "cell_type": "code",
   "execution_count": 92,
   "metadata": {},
   "outputs": [
    {
     "data": {
      "image/png": "[encoded data removed]",
      "text/plain": [
       "<Figure size 800x600 with 1 Axes>"
      ]
     },
     "metadata": {},
     "output_type": "display_data"
    }
   ],
   "source": [
    "# Chart - 3 visualization code\n",
    "df_temp = df_new.groupby(['type','release_year']).size().reset_index(name = 'count')\n",
    "plt.figure(figsize = (8,6))\n",
    "sns.lineplot(df_temp,x = 'release_year',y = 'count',hue = 'type',palette = 'viridis')\n",
    "plt.grid()\n",
    "plt.xlabel(\"Year\")\n",
    "plt.ylabel(\"Number of Movies/Shows Released\")\n",
    "plt.show()"
   ]
  },
  {
   "cell_type": "markdown",
   "metadata": {
    "id": "fge-S5ZAYoAp"
   },
   "source": [
    "##### 1. Why did you pick the specific chart?"
   ]
  },
  {
   "cell_type": "markdown",
   "metadata": {
    "id": "5dBItgRVYoAp"
   },
   "source": [
    "This chart shows the distribution of content based on year it was released."
   ]
  },
  {
   "cell_type": "markdown",
   "metadata": {
    "id": "85gYPyotYoAp"
   },
   "source": [
    "##### 2. What is/are the insight(s) found from the chart?"
   ]
  },
  {
   "cell_type": "markdown",
   "metadata": {
    "id": "4jstXR6OYoAp"
   },
   "source": [
    "- From the chart we found that, most of the movies or shows on the plateform are released during the period from 2015 to 2020.\n",
    "- Although there are some spikes in movies from release year 1930 to 1940, Indicating that there may be some movies that were superhit that time.\n",
    "- A sharp decline around 2020 is indicating low movies/show release during that year due to COVID-19 lockdown."
   ]
  },
  {
   "cell_type": "markdown",
   "metadata": {
    "id": "RoGjAbkUYoAp"
   },
   "source": [
    "##### 3. Will the gained insights help creating a positive business impact?\n",
    "Are there any insights that lead to negative growth? Justify with specific reason."
   ]
  },
  {
   "cell_type": "markdown",
   "metadata": {
    "id": "zfJ8IqMcYoAp"
   },
   "source": [
    "- Licensing more movies/shows of period between 1930 to 1940 and targeting users of older ages could bring positive impact to bussiness.\n",
    "- Targeted advertisements of movies/shows for both old age user groups and new age group based on release year could be beneficial for the bussiness and viewership."
   ]
  },
  {
   "cell_type": "markdown",
   "metadata": {
    "id": "4Of9eVA-YrdM"
   },
   "source": [
    "#### Chart - 7"
   ]
  },
  {
   "cell_type": "code",
   "execution_count": 93,
   "metadata": {},
   "outputs": [
    {
     "data": {
      "image/png": "[encoded data removed]",
      "text/plain": [
       "<Figure size 800x600 with 1 Axes>"
      ]
     },
     "metadata": {},
     "output_type": "display_data"
    }
   ],
   "source": [
    "# Chart - 4 visualization code\n",
    "df_movies = df_movies.sort_values(by = 'imdb_votes',ascending=False).head(7)\n",
    "plt.figure(figsize = (8,6))\n",
    "plt.title(\"Top 7 Movies by IMDB Votes\")\n",
    "sns.barplot(df_movies,x = 'imdb_votes',y = 'title',palette = 'viridis',\n",
    "            hue = 'title',legend = False,order = df_movies['title'].value_counts().index[:7])\n",
    "plt.gca().xaxis.set_major_formatter(FuncFormatter(lambda x, _: f'{x/1_000_000:.1f}M'))\n",
    "plt.grid()\n",
    "plt.xlabel(\"IMDB Votes\")\n",
    "plt.ylabel(\"Movie Title\")\n",
    "plt.show()"
   ]
  },
  {
   "cell_type": "markdown",
   "metadata": {
    "id": "iky9q4vBYrdO"
   },
   "source": [
    "##### 1. Why did you pick the specific chart?"
   ]
  },
  {
   "cell_type": "markdown",
   "metadata": {
    "id": "aJRCwT6DYrdO"
   },
   "source": [
    "This Horizontal bar chart shows Top 7 Movies by IMDb Votes."
   ]
  },
  {
   "cell_type": "markdown",
   "metadata": {
    "id": "F6T5p64dYrdO"
   },
   "source": [
    "##### 2. What is/are the insight(s) found from the chart?"
   ]
  },
  {
   "cell_type": "markdown",
   "metadata": {
    "id": "Xx8WAJvtYrdO"
   },
   "source": [
    "Titanic is the highest voted movie with more than 1.5M, followed by 'The Usual Suspects', 'Braveheart' and so on."
   ]
  },
  {
   "cell_type": "markdown",
   "metadata": {
    "id": "y-Ehk30pYrdP"
   },
   "source": [
    "##### 3. Will the gained insights help creating a positive business impact?\n",
    "Are there any insights that lead to negative growth? Justify with specific reason."
   ]
  },
  {
   "cell_type": "markdown",
   "metadata": {
    "id": "jLNxxz7MYrdP"
   },
   "source": [
    "- Movies like 'Titanic','The Usual Suspects','Braveheart','The Sixth Sense','The Terminator' has high user engagement or popularity. Amazon Prime could use this information to recommend similar type of movies to their users.\n",
    "- Re-featuring these movies, could possibly reduce customer churn."
   ]
  },
  {
   "cell_type": "markdown",
   "metadata": {
    "id": "bamQiAODYuh1"
   },
   "source": [
    "#### Chart - 8"
   ]
  },
  {
   "cell_type": "code",
   "execution_count": 94,
   "metadata": {},
   "outputs": [
    {
     "data": {
      "image/png": "[encoded data removed]",
      "text/plain": [
       "<Figure size 800x600 with 1 Axes>"
      ]
     },
     "metadata": {},
     "output_type": "display_data"
    }
   ],
   "source": [
    "# Chart - 3 visualization code\n",
    "df_show = df_show.sort_values(by = 'imdb_votes',ascending=False).head(7)\n",
    "plt.figure(figsize = (8,6))\n",
    "plt.title(\"Top 7 Shows by IMDB Votes\")\n",
    "sns.barplot(df_show,x = 'imdb_votes',y = 'title',palette = 'viridis',\n",
    "            hue = 'title',legend = False,order = df_show['title'].value_counts().index[:7])\n",
    "plt.gca().xaxis.set_major_formatter(FuncFormatter(lambda x, _: f'{x/1_000:.0f}K'))\n",
    "plt.grid()\n",
    "plt.xlabel(\"IMDB Votes\")\n",
    "plt.ylabel(\"Show Title\")\n",
    "plt.show()"
   ]
  },
  {
   "cell_type": "markdown",
   "metadata": {
    "id": "QHF8YVU7Yuh3"
   },
   "source": [
    "##### 1. Why did you pick the specific chart?"
   ]
  },
  {
   "cell_type": "markdown",
   "metadata": {
    "id": "dcxuIMRPYuh3"
   },
   "source": [
    "This Horizontal bar chart shows Top 7 Shows by IMDb Votes."
   ]
  },
  {
   "cell_type": "markdown",
   "metadata": {
    "id": "GwzvFGzlYuh3"
   },
   "source": [
    "##### 2. What is/are the insight(s) found from the chart?"
   ]
  },
  {
   "cell_type": "markdown",
   "metadata": {
    "id": "uyqkiB8YYuh3"
   },
   "source": [
    "Dexter is the highest voted show with more than 700K, followed by 'How I Met your Mother', 'Vikings' and so on."
   ]
  },
  {
   "cell_type": "markdown",
   "metadata": {
    "id": "qYpmQ266Yuh3"
   },
   "source": [
    "##### 3. Will the gained insights help creating a positive business impact?\n",
    "Are there any insights that lead to negative growth? Justify with specific reason."
   ]
  },
  {
   "cell_type": "markdown",
   "metadata": {
    "id": "_WtzZ_hCYuh4"
   },
   "source": [
    "- Shows like 'Dexter','How I Met Your Mother','Vikings','House' has high user engagement or popularity. Amazon Prime could use this information to recommend similar type of shows to their users.\n",
    "- Re-featuring these shows, could possibly reduce customer churn."
   ]
  },
  {
   "cell_type": "markdown",
   "metadata": {
    "id": "OH-pJp9IphqM"
   },
   "source": [
    "#### Chart - 9"
   ]
  },
  {
   "cell_type": "code",
   "execution_count": 95,
   "metadata": {},
   "outputs": [
    {
     "data": {
      "image/png": "[encoded data removed]",
      "text/plain": [
       "<Figure size 800x600 with 1 Axes>"
      ]
     },
     "metadata": {},
     "output_type": "display_data"
    }
   ],
   "source": [
    "df_temp_show = df_exploded_genre.groupby(['type','genres'])['imdb_votes'].sum().reset_index(name = 'Sum_imdb_votes').sort_values(by = 'Sum_imdb_votes',\n",
    "                                                                                                                     ascending = False)\n",
    "plt.figure(figsize = (8,6))\n",
    "plt.title(\"Top 7 Popular Genres\")\n",
    "sns.barplot(df_temp_show,x = 'genres',y = 'Sum_imdb_votes',order = df_temp_show['genres'].value_counts().index[:7],hue = 'type',palette = 'viridis')\n",
    "plt.gca().yaxis.set_major_formatter(FuncFormatter(lambda x, _: f'{x/1_000_000:.1f}M'))\n",
    "plt.grid()\n",
    "plt.xlabel(\"Genre\")\n",
    "plt.ylabel(\"Total IMDB Votes\")\n",
    "plt.show()"
   ]
  },
  {
   "cell_type": "markdown",
   "metadata": {
    "id": "bbFf2-_FphqN"
   },
   "source": [
    "##### 1. Why did you pick the specific chart?"
   ]
  },
  {
   "cell_type": "markdown",
   "metadata": {
    "id": "loh7H2nzphqN"
   },
   "source": [
    "This bar graph shows the Top 7 most popular genres for both Movies And Shows."
   ]
  },
  {
   "cell_type": "markdown",
   "metadata": {
    "id": "_ouA3fa0phqN"
   },
   "source": [
    "##### 2. What is/are the insight(s) found from the chart?"
   ]
  },
  {
   "cell_type": "markdown",
   "metadata": {
    "id": "VECbqPI7phqN"
   },
   "source": [
    "- Movies with genres drama,thriller,action,comedy and romance are most popular.\n",
    "- Shows with genres drama,comedy,crime and scifi are most popular."
   ]
  },
  {
   "cell_type": "markdown",
   "metadata": {
    "id": "Seke61FWphqN"
   },
   "source": [
    "##### 3. Will the gained insights help creating a positive business impact?\n",
    "Are there any insights that lead to negative growth? Justify with specific reason."
   ]
  },
  {
   "cell_type": "markdown",
   "metadata": {
    "id": "DW4_bGpfphqN"
   },
   "source": [
    "- The gained insights can be used by recommendation engine to recommend similar movies to targeted users both for movies and shows.\n",
    "- Licensing more movies/shows based on popular genres by the streaming plateform could boost viewership and user retention."
   ]
  },
  {
   "cell_type": "markdown",
   "metadata": {
    "id": "gCX9965dhzqZ"
   },
   "source": [
    "# **Conclusion**"
   ]
  },
  {
   "cell_type": "markdown",
   "metadata": {
    "id": "Fjb1IsQkh3yE"
   },
   "source": [
    "From the Exploratory Data Analysis of the Amazon Prime Video Dataset, we can now address our problem statement.\n",
    "1. Genres and Categories that dominate the Plateform.\n",
    "- The Plateform is dominated mostly by MOVIE (86.8%) with SHOW being 13.2%.\n",
    "- The popular genres for movies is Drama, Comedy, Thriller, and Romance\n",
    "- The popular genre for shows is Drama,Comedy,Action and Crime.\n",
    "\n",
    "2. Variation of content distribution across different region.\n",
    "- For movies most content are released in US, India, United Kingdom(Great Britain), Canada with popular genres as Drama, Comedy, Thriller, and Action.\n",
    "- For Shows most content are from US,Great Britain, Japan, China, Canada, and Australia with popular popular genre like Drama, Comedy, Animation, and Documentation. Most show genre for US are Drama and Comedy, for GB are Drama, Comedy and Documentation, and for Japan it is mostly animation.\n",
    "\n",
    "3. Evolution of content library with time.\n",
    "- Most Shows and Movies on plateform are released in the year between 2015 to 2020.\n",
    "- There is a sharp decline somewhere around 2020, probably due to COVID-19 Lockdown.\n",
    "\n",
    "4. Highest rated Movies/Shows.\n",
    "- 'Titanic','The Usual Suspects','Braveheart','The Sixth Sense','The Terminator' has high user engagement and are most popular movies.\n",
    "- 'Dexter','How I Met Your Mother','Vikings' are most popular shows on plateform."
   ]
  },
  {
   "cell_type": "markdown",
   "metadata": {
    "id": "gIfDvo9L0UH2"
   },
   "source": [
    "### ***Hurrah! You have successfully completed your EDA Capstone Project !!!***"
   ]
  }
 ],
 "metadata": {
  "colab": {
   "collapsed_sections": [
    "vncDsAP0Gaoa",
    "FJNUwmbgGyua",
    "w6K7xa23Elo4",
    "yQaldy8SH6Dl",
    "PH-0ReGfmX4f",
    "mDgbUHAGgjLW",
    "O_i_v8NEhb9l",
    "HhfV-JJviCcP",
    "Y3lxredqlCYt",
    "3RnN4peoiCZX",
    "x71ZqKXriCWQ",
    "7hBIi_osiCS2",
    "JlHwYmJAmNHm",
    "35m5QtbWiB9F",
    "PoPl-ycgm1ru",
    "H0kj-8xxnORC",
    "nA9Y7ga8ng1Z",
    "PBTbrJXOngz2",
    "u3PMJOP6ngxN",
    "dauF4eBmngu3",
    "bKJF3rekwFvQ",
    "MSa1f5Uengrz",
    "GF8Ens_Soomf",
    "0wOQAZs5pc--",
    "K5QZ13OEpz2H",
    "lQ7QKXXCp7Bj",
    "448CDAPjqfQr",
    "KSlN3yHqYklG",
    "t6dVpIINYklI",
    "ijmpgYnKYklI",
    "-JiQyfWJYklI",
    "EM7whBJCYoAo",
    "fge-S5ZAYoAp",
    "85gYPyotYoAp",
    "RoGjAbkUYoAp",
    "4Of9eVA-YrdM",
    "iky9q4vBYrdO",
    "F6T5p64dYrdO",
    "y-Ehk30pYrdP",
    "bamQiAODYuh1",
    "QHF8YVU7Yuh3",
    "GwzvFGzlYuh3",
    "qYpmQ266Yuh3",
    "OH-pJp9IphqM",
    "bbFf2-_FphqN",
    "_ouA3fa0phqN",
    "Seke61FWphqN",
    "PIIx-8_IphqN",
    "t27r6nlMphqO",
    "r2jJGEOYphqO",
    "b0JNsNcRphqO",
    "BZR9WyysphqO",
    "jj7wYXLtphqO",
    "eZrbJ2SmphqO",
    "rFu4xreNphqO",
    "YJ55k-q6phqO",
    "gCFgpxoyphqP",
    "OVtJsKN_phqQ",
    "lssrdh5qphqQ",
    "U2RJ9gkRphqQ",
    "1M8mcRywphqQ",
    "tgIPom80phqQ",
    "JMzcOPDDphqR",
    "x-EpHcCOp1ci",
    "X_VqEhTip1ck",
    "8zGJKyg5p1ck",
    "PVzmfK_Ep1ck",
    "n3dbpmDWp1ck",
    "ylSl6qgtp1ck",
    "ZWILFDl5p1ck",
    "M7G43BXep1ck",
    "Ag9LCva-p1cl",
    "E6MkPsBcp1cl",
    "2cELzS2fp1cl",
    "3MPXvC8up1cl",
    "NC_X3p0fY2L0",
    "UV0SzAkaZNRQ",
    "YPEH6qLeZNRQ",
    "q29F0dvdveiT",
    "EXh0U9oCveiU",
    "22aHeOlLveiV",
    "JcMwzZxoAimU",
    "8G2x9gOozGDZ",
    "gCX9965dhzqZ",
    "gIfDvo9L0UH2"
   ],
   "private_outputs": true,
   "provenance": []
  },
  "kernelspec": {
   "display_name": "Python 3 (ipykernel)",
   "language": "python",
   "name": "python3"
  },
  "language_info": {
   "codemirror_mode": {
    "name": "ipython",
    "version": 3
   },
   "file_extension": ".py",
   "mimetype": "text/x-python",
   "name": "python",
   "nbconvert_exporter": "python",
   "pygments_lexer": "ipython3",
   "version": "3.13.3"
  }
 },
 "nbformat": 4,
 "nbformat_minor": 4
}
